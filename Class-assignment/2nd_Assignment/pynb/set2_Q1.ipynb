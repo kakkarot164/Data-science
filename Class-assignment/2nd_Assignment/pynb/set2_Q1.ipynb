{
 "cells": [
  {
   "cell_type": "code",
   "execution_count": 1,
   "id": "0d4337f0",
   "metadata": {},
   "outputs": [],
   "source": [
    "import scipy.stats as stats"
   ]
  },
  {
   "cell_type": "code",
   "execution_count": 2,
   "id": "28cc81cf",
   "metadata": {},
   "outputs": [],
   "source": [
    " # Mean\n",
    "m = 45 \n",
    " # Standard deviation\n",
    "sd = 8 \n",
    "start_time = 10  \n",
    "commitment_time = 60  "
   ]
  },
  {
   "cell_type": "code",
   "execution_count": 3,
   "id": "e3ac4d64",
   "metadata": {},
   "outputs": [],
   "source": [
    "x = commitment_time - start_time "
   ]
  },
  {
   "cell_type": "code",
   "execution_count": 9,
   "id": "ad78aa46",
   "metadata": {},
   "outputs": [
    {
     "data": {
      "text/plain": [
       "0.26598552904870054"
      ]
     },
     "execution_count": 9,
     "metadata": {},
     "output_type": "execute_result"
    }
   ],
   "source": [
    " 1 - stats.norm.cdf(x, m, sd)"
   ]
  },
  {
   "cell_type": "code",
   "execution_count": null,
   "id": "f801c560",
   "metadata": {},
   "outputs": [],
   "source": []
  }
 ],
 "metadata": {
  "kernelspec": {
   "display_name": "Python 3 (ipykernel)",
   "language": "python",
   "name": "python3"
  },
  "language_info": {
   "codemirror_mode": {
    "name": "ipython",
    "version": 3
   },
   "file_extension": ".py",
   "mimetype": "text/x-python",
   "name": "python",
   "nbconvert_exporter": "python",
   "pygments_lexer": "ipython3",
   "version": "3.9.13"
  }
 },
 "nbformat": 4,
 "nbformat_minor": 5
}
