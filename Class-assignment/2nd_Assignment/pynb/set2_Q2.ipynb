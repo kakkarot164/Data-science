{
 "cells": [
  {
   "cell_type": "code",
   "execution_count": 1,
   "id": "65a72db3",
   "metadata": {},
   "outputs": [],
   "source": [
    "import scipy.stats as stats"
   ]
  },
  {
   "cell_type": "code",
   "execution_count": 2,
   "id": "d2b04aa6",
   "metadata": {},
   "outputs": [],
   "source": [
    "m = 38\n",
    "sd = 6\n",
    "x1= 44\n",
    "X2= 38"
   ]
  },
  {
   "cell_type": "code",
   "execution_count": 10,
   "id": "a21eb53f",
   "metadata": {},
   "outputs": [],
   "source": [
    "# A. Comparing employees older than 44 and between 38 and 44"
   ]
  },
  {
   "cell_type": "code",
   "execution_count": 7,
   "id": "455b8772",
   "metadata": {},
   "outputs": [],
   "source": [
    "prop_bet_38_44 = stats.norm.cdf(44,38,6) - stats.norm.cdf(38,38,6)"
   ]
  },
  {
   "cell_type": "code",
   "execution_count": 5,
   "id": "34ae25af",
   "metadata": {},
   "outputs": [],
   "source": [
    "prop_older_than_44 = 1 - stats.norm.cdf(44,38,6)"
   ]
  },
  {
   "cell_type": "code",
   "execution_count": 8,
   "id": "a3402105",
   "metadata": {},
   "outputs": [],
   "source": [
    "final_prop = prop_older_than_44 > prop_bet_38_44"
   ]
  },
  {
   "cell_type": "code",
   "execution_count": 9,
   "id": "c7e41e70",
   "metadata": {},
   "outputs": [
    {
     "name": "stdout",
     "output_type": "stream",
     "text": [
      "A. More employees at the processing center are older than 44 than between 38 and 44: False\n"
     ]
    }
   ],
   "source": [
    "print(f\"A. More employees at the processing center are older than 44 than between 38 and 44: {final_prop}\")\n"
   ]
  },
  {
   "cell_type": "code",
   "execution_count": 11,
   "id": "6cc50988",
   "metadata": {},
   "outputs": [],
   "source": [
    "# B. Expected number of employees under the age of 30"
   ]
  },
  {
   "cell_type": "code",
   "execution_count": 12,
   "id": "7634cc8c",
   "metadata": {},
   "outputs": [],
   "source": [
    "prop_under_30 =  stats.norm.cdf(30,38,6)"
   ]
  },
  {
   "cell_type": "code",
   "execution_count": 13,
   "id": "f3d2529d",
   "metadata": {},
   "outputs": [],
   "source": [
    "total_employees = 400"
   ]
  },
  {
   "cell_type": "code",
   "execution_count": 14,
   "id": "b610bd75",
   "metadata": {},
   "outputs": [],
   "source": [
    "expected_30 = prop_under_30 * total_employees"
   ]
  },
  {
   "cell_type": "code",
   "execution_count": 15,
   "id": "3ef99bac",
   "metadata": {},
   "outputs": [
    {
     "name": "stdout",
     "output_type": "stream",
     "text": [
      "B. Expected number of employees under the age of 30: 36.484487890347154\n"
     ]
    }
   ],
   "source": [
    "print(f\"B. Expected number of employees under the age of 30: {expected_30}\")"
   ]
  },
  {
   "cell_type": "code",
   "execution_count": null,
   "id": "00d0b9da",
   "metadata": {},
   "outputs": [],
   "source": []
  }
 ],
 "metadata": {
  "kernelspec": {
   "display_name": "Python 3 (ipykernel)",
   "language": "python",
   "name": "python3"
  },
  "language_info": {
   "codemirror_mode": {
    "name": "ipython",
    "version": 3
   },
   "file_extension": ".py",
   "mimetype": "text/x-python",
   "name": "python",
   "nbconvert_exporter": "python",
   "pygments_lexer": "ipython3",
   "version": "3.9.13"
  }
 },
 "nbformat": 4,
 "nbformat_minor": 5
}
