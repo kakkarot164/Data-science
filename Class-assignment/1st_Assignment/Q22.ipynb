{
 "cells": [
  {
   "cell_type": "code",
   "execution_count": 9,
   "id": "f90846f2",
   "metadata": {},
   "outputs": [],
   "source": [
    "from scipy import stats"
   ]
  },
  {
   "cell_type": "code",
   "execution_count": 10,
   "id": "45fb4c61",
   "metadata": {},
   "outputs": [
    {
     "data": {
      "text/plain": [
       "1.8807936081512509"
      ]
     },
     "execution_count": 10,
     "metadata": {},
     "output_type": "execute_result"
    }
   ],
   "source": [
    "#for 90% confidence interval\n",
    "score_1 = stats.norm.ppf(0.97)\n",
    "score_1"
   ]
  },
  {
   "cell_type": "code",
   "execution_count": 11,
   "id": "2423ee7e",
   "metadata": {},
   "outputs": [
    {
     "data": {
      "text/plain": [
       "1.6448536269514722"
      ]
     },
     "execution_count": 11,
     "metadata": {},
     "output_type": "execute_result"
    }
   ],
   "source": [
    "#for 94% confidence interval\n",
    "score_2 = stats.norm.ppf(0.95)\n",
    "score_2"
   ]
  },
  {
   "cell_type": "code",
   "execution_count": 12,
   "id": "ba99709b",
   "metadata": {},
   "outputs": [
    {
     "data": {
      "text/plain": [
       "0.8416212335729143"
      ]
     },
     "execution_count": 12,
     "metadata": {},
     "output_type": "execute_result"
    }
   ],
   "source": [
    "#for 60% confidence interval\n",
    "score_3 = stats.norm.ppf(0.80)\n",
    "score_3"
   ]
  },
  {
   "cell_type": "code",
   "execution_count": null,
   "id": "2e26762a",
   "metadata": {},
   "outputs": [],
   "source": []
  }
 ],
 "metadata": {
  "kernelspec": {
   "display_name": "Python 3 (ipykernel)",
   "language": "python",
   "name": "python3"
  },
  "language_info": {
   "codemirror_mode": {
    "name": "ipython",
    "version": 3
   },
   "file_extension": ".py",
   "mimetype": "text/x-python",
   "name": "python",
   "nbconvert_exporter": "python",
   "pygments_lexer": "ipython3",
   "version": "3.9.13"
  }
 },
 "nbformat": 4,
 "nbformat_minor": 5
}
