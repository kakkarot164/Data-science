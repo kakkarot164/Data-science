{
 "cells": [
  {
   "cell_type": "code",
   "execution_count": 1,
   "id": "968a134a",
   "metadata": {},
   "outputs": [],
   "source": [
    "import pandas as pd\n",
    "import numpy as np\n",
    "import matplotlib.pyplot as plt\n",
    "from scipy.stats import skew, kurtosis"
   ]
  },
  {
   "cell_type": "code",
   "execution_count": 4,
   "id": "b0a6f0be",
   "metadata": {},
   "outputs": [
    {
     "data": {
      "text/html": [
       "<div>\n",
       "<style scoped>\n",
       "    .dataframe tbody tr th:only-of-type {\n",
       "        vertical-align: middle;\n",
       "    }\n",
       "\n",
       "    .dataframe tbody tr th {\n",
       "        vertical-align: top;\n",
       "    }\n",
       "\n",
       "    .dataframe thead th {\n",
       "        text-align: right;\n",
       "    }\n",
       "</style>\n",
       "<table border=\"1\" class=\"dataframe\">\n",
       "  <thead>\n",
       "    <tr style=\"text-align: right;\">\n",
       "      <th></th>\n",
       "      <th>SP</th>\n",
       "      <th>WT</th>\n",
       "    </tr>\n",
       "  </thead>\n",
       "  <tbody>\n",
       "    <tr>\n",
       "      <th>1</th>\n",
       "      <td>104.185353</td>\n",
       "      <td>28.762059</td>\n",
       "    </tr>\n",
       "    <tr>\n",
       "      <th>2</th>\n",
       "      <td>105.461264</td>\n",
       "      <td>30.466833</td>\n",
       "    </tr>\n",
       "    <tr>\n",
       "      <th>3</th>\n",
       "      <td>105.461264</td>\n",
       "      <td>30.193597</td>\n",
       "    </tr>\n",
       "    <tr>\n",
       "      <th>4</th>\n",
       "      <td>113.461264</td>\n",
       "      <td>30.632114</td>\n",
       "    </tr>\n",
       "    <tr>\n",
       "      <th>5</th>\n",
       "      <td>104.461264</td>\n",
       "      <td>29.889149</td>\n",
       "    </tr>\n",
       "    <tr>\n",
       "      <th>...</th>\n",
       "      <td>...</td>\n",
       "      <td>...</td>\n",
       "    </tr>\n",
       "    <tr>\n",
       "      <th>77</th>\n",
       "      <td>169.598513</td>\n",
       "      <td>16.132947</td>\n",
       "    </tr>\n",
       "    <tr>\n",
       "      <th>78</th>\n",
       "      <td>150.576579</td>\n",
       "      <td>37.923113</td>\n",
       "    </tr>\n",
       "    <tr>\n",
       "      <th>79</th>\n",
       "      <td>151.598513</td>\n",
       "      <td>15.769625</td>\n",
       "    </tr>\n",
       "    <tr>\n",
       "      <th>80</th>\n",
       "      <td>167.944460</td>\n",
       "      <td>39.423099</td>\n",
       "    </tr>\n",
       "    <tr>\n",
       "      <th>81</th>\n",
       "      <td>139.840817</td>\n",
       "      <td>34.948615</td>\n",
       "    </tr>\n",
       "  </tbody>\n",
       "</table>\n",
       "<p>81 rows × 2 columns</p>\n",
       "</div>"
      ],
      "text/plain": [
       "            SP         WT\n",
       "1   104.185353  28.762059\n",
       "2   105.461264  30.466833\n",
       "3   105.461264  30.193597\n",
       "4   113.461264  30.632114\n",
       "5   104.461264  29.889149\n",
       "..         ...        ...\n",
       "77  169.598513  16.132947\n",
       "78  150.576579  37.923113\n",
       "79  151.598513  15.769625\n",
       "80  167.944460  39.423099\n",
       "81  139.840817  34.948615\n",
       "\n",
       "[81 rows x 2 columns]"
      ]
     },
     "execution_count": 4,
     "metadata": {},
     "output_type": "execute_result"
    }
   ],
   "source": [
    "df = pd.read_csv('Q9_b.csv', index_col=0)\n",
    "df"
   ]
  },
  {
   "cell_type": "code",
   "execution_count": 5,
   "id": "960beda4",
   "metadata": {},
   "outputs": [
    {
     "data": {
      "text/html": [
       "<div>\n",
       "<style scoped>\n",
       "    .dataframe tbody tr th:only-of-type {\n",
       "        vertical-align: middle;\n",
       "    }\n",
       "\n",
       "    .dataframe tbody tr th {\n",
       "        vertical-align: top;\n",
       "    }\n",
       "\n",
       "    .dataframe thead th {\n",
       "        text-align: right;\n",
       "    }\n",
       "</style>\n",
       "<table border=\"1\" class=\"dataframe\">\n",
       "  <thead>\n",
       "    <tr style=\"text-align: right;\">\n",
       "      <th></th>\n",
       "      <th>SP</th>\n",
       "      <th>WT</th>\n",
       "    </tr>\n",
       "  </thead>\n",
       "  <tbody>\n",
       "    <tr>\n",
       "      <th>count</th>\n",
       "      <td>81.000000</td>\n",
       "      <td>81.000000</td>\n",
       "    </tr>\n",
       "    <tr>\n",
       "      <th>mean</th>\n",
       "      <td>121.540272</td>\n",
       "      <td>32.412577</td>\n",
       "    </tr>\n",
       "    <tr>\n",
       "      <th>std</th>\n",
       "      <td>14.181432</td>\n",
       "      <td>7.492813</td>\n",
       "    </tr>\n",
       "    <tr>\n",
       "      <th>min</th>\n",
       "      <td>99.564907</td>\n",
       "      <td>15.712859</td>\n",
       "    </tr>\n",
       "    <tr>\n",
       "      <th>25%</th>\n",
       "      <td>113.829145</td>\n",
       "      <td>29.591768</td>\n",
       "    </tr>\n",
       "    <tr>\n",
       "      <th>50%</th>\n",
       "      <td>118.208698</td>\n",
       "      <td>32.734518</td>\n",
       "    </tr>\n",
       "    <tr>\n",
       "      <th>75%</th>\n",
       "      <td>126.404312</td>\n",
       "      <td>37.392524</td>\n",
       "    </tr>\n",
       "    <tr>\n",
       "      <th>max</th>\n",
       "      <td>169.598513</td>\n",
       "      <td>52.997752</td>\n",
       "    </tr>\n",
       "  </tbody>\n",
       "</table>\n",
       "</div>"
      ],
      "text/plain": [
       "               SP         WT\n",
       "count   81.000000  81.000000\n",
       "mean   121.540272  32.412577\n",
       "std     14.181432   7.492813\n",
       "min     99.564907  15.712859\n",
       "25%    113.829145  29.591768\n",
       "50%    118.208698  32.734518\n",
       "75%    126.404312  37.392524\n",
       "max    169.598513  52.997752"
      ]
     },
     "execution_count": 5,
     "metadata": {},
     "output_type": "execute_result"
    }
   ],
   "source": [
    "df.describe()"
   ]
  },
  {
   "cell_type": "code",
   "execution_count": 6,
   "id": "a2fbde69",
   "metadata": {},
   "outputs": [
    {
     "data": {
      "text/plain": [
       "118.2086984"
      ]
     },
     "execution_count": 6,
     "metadata": {},
     "output_type": "execute_result"
    }
   ],
   "source": [
    "spmed = df['SP'].median()\n",
    "spmed"
   ]
  },
  {
   "cell_type": "code",
   "execution_count": 7,
   "id": "9e3992c2",
   "metadata": {},
   "outputs": [
    {
     "data": {
      "text/plain": [
       "121.5402721803703"
      ]
     },
     "execution_count": 7,
     "metadata": {},
     "output_type": "execute_result"
    }
   ],
   "source": [
    "spmean = df['SP'].mean()\n",
    "spmean "
   ]
  },
  {
   "cell_type": "code",
   "execution_count": 8,
   "id": "d4ce4fbe",
   "metadata": {},
   "outputs": [
    {
     "data": {
      "text/plain": [
       "<matplotlib.legend.Legend at 0x1f5e18e0970>"
      ]
     },
     "execution_count": 8,
     "metadata": {},
     "output_type": "execute_result"
    },
    {
     "data": {
      "image/png": "[encoded data removed]",
      "text/plain": [
       "<Figure size 640x480 with 1 Axes>"
      ]
     },
     "metadata": {},
     "output_type": "display_data"
    }
   ],
   "source": [
    "plt.hist(df['SP'], edgecolor = 'black')\n",
    "plt.axvline(spmed, color = 'yellow', label='median')\n",
    "plt.axvline(spmean  , color = 'red', label='mean')\n",
    "plt.legend()"
   ]
  },
  {
   "cell_type": "code",
   "execution_count": 9,
   "id": "cff954ee",
   "metadata": {},
   "outputs": [
    {
     "data": {
      "text/plain": [
       "1.5814536794423764"
      ]
     },
     "execution_count": 9,
     "metadata": {},
     "output_type": "execute_result"
    }
   ],
   "source": [
    "#skewness for SP\n",
    "skew(df['SP'])"
   ]
  },
  {
   "cell_type": "code",
   "execution_count": 10,
   "id": "c318bb5a",
   "metadata": {},
   "outputs": [
    {
     "data": {
      "text/plain": [
       "2.7235214865269244"
      ]
     },
     "execution_count": 10,
     "metadata": {},
     "output_type": "execute_result"
    }
   ],
   "source": [
    "#kurtosis for SP\n",
    "kurtosis(df['SP'])"
   ]
  },
  {
   "cell_type": "code",
   "execution_count": 11,
   "id": "dafc5ffd",
   "metadata": {},
   "outputs": [
    {
     "data": {
      "text/plain": [
       "32.73451818"
      ]
     },
     "execution_count": 11,
     "metadata": {},
     "output_type": "execute_result"
    }
   ],
   "source": [
    "WTmed = df['WT'].median()\n",
    "WTmed"
   ]
  },
  {
   "cell_type": "code",
   "execution_count": 12,
   "id": "1c9a8b5c",
   "metadata": {},
   "outputs": [
    {
     "data": {
      "text/plain": [
       "32.41257691024691"
      ]
     },
     "execution_count": 12,
     "metadata": {},
     "output_type": "execute_result"
    }
   ],
   "source": [
    "WTmean = df['WT'].mean()\n",
    "WTmean"
   ]
  },
  {
   "cell_type": "code",
   "execution_count": 13,
   "id": "878e8527",
   "metadata": {},
   "outputs": [
    {
     "data": {
      "text/plain": [
       "<matplotlib.legend.Legend at 0x1f5e1112d60>"
      ]
     },
     "execution_count": 13,
     "metadata": {},
     "output_type": "execute_result"
    },
    {
     "data": {
      "image/png": "[encoded data removed]",
      "text/plain": [
       "<Figure size 640x480 with 1 Axes>"
      ]
     },
     "metadata": {},
     "output_type": "display_data"
    }
   ],
   "source": [
    "plt.hist(df['WT'], edgecolor = 'black')\n",
    "plt.axvline(WTmed, color = 'yellow', label='median')\n",
    "plt.axvline(WTmean  , color = 'red', label='mean')\n",
    "plt.legend()"
   ]
  },
  {
   "cell_type": "code",
   "execution_count": 14,
   "id": "e316391a",
   "metadata": {},
   "outputs": [
    {
     "data": {
      "text/plain": [
       "-0.6033099322115126"
      ]
     },
     "execution_count": 14,
     "metadata": {},
     "output_type": "execute_result"
    }
   ],
   "source": [
    "#skewness for WT\n",
    "skew(df['WT'])"
   ]
  },
  {
   "cell_type": "code",
   "execution_count": 15,
   "id": "45ad5b4d",
   "metadata": {},
   "outputs": [
    {
     "data": {
      "text/plain": [
       "0.8194658792266849"
      ]
     },
     "execution_count": 15,
     "metadata": {},
     "output_type": "execute_result"
    }
   ],
   "source": [
    "#kurtosis for WT\n",
    "kurtosis(df['WT'])"
   ]
  },
  {
   "cell_type": "code",
   "execution_count": null,
   "id": "e9b20add",
   "metadata": {},
   "outputs": [],
   "source": []
  }
 ],
 "metadata": {
  "kernelspec": {
   "display_name": "Python 3 (ipykernel)",
   "language": "python",
   "name": "python3"
  },
  "language_info": {
   "codemirror_mode": {
    "name": "ipython",
    "version": 3
   },
   "file_extension": ".py",
   "mimetype": "text/x-python",
   "name": "python",
   "nbconvert_exporter": "python",
   "pygments_lexer": "ipython3",
   "version": "3.9.13"
  }
 },
 "nbformat": 4,
 "nbformat_minor": 5
}
